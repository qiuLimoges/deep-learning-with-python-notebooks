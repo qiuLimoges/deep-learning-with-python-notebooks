{
 "cells": [
  {
   "cell_type": "code",
   "execution_count": 1,
   "metadata": {},
   "outputs": [
    {
     "name": "stdout",
     "output_type": "stream",
     "text": [
      "WARNING:tensorflow:Deprecation warnings have been disabled. Set TF_ENABLE_DEPRECATION_WARNINGS=1 to re-enable them.\n"
     ]
    },
    {
     "name": "stderr",
     "output_type": "stream",
     "text": [
      "Using TensorFlow backend.\n"
     ]
    },
    {
     "data": {
      "text/plain": [
       "'2.3.1'"
      ]
     },
     "execution_count": 1,
     "metadata": {},
     "output_type": "execute_result"
    }
   ],
   "source": [
    "import keras\n",
    "keras.__version__"
   ]
  },
  {
   "cell_type": "markdown",
   "metadata": {},
   "source": [
    "# Overfitting and underfitting\n",
    "\n",
    "This notebook contains the code samples found in Chapter 3, Section 6 of [Deep Learning with Python](https://www.manning.com/books/deep-learning-with-python?a_aid=keras&a_bid=76564dff). Note that the original text features far more content, in particular further explanations and figures: in this notebook, you will only find source code and related comments.\n",
    "\n",
    "----\n",
    "\n",
    "\n",
    "In all the examples we saw in the previous chapter -- movie review sentiment prediction, topic classification, and house price regression -- \n",
    "we could notice that the performance of our model on the held-out validation data would always peak after a few epochs and would then start \n",
    "degrading, i.e. our model would quickly start to _overfit_ to the training data. Overfitting happens in every single machine learning \n",
    "problem. Learning how to deal with overfitting is essential to mastering machine learning.\n",
    "\n",
    "The fundamental issue in machine learning is the tension between optimization and generalization. \"Optimization\" refers to the process of \n",
    "adjusting a model to get the best performance possible on the training data (the \"learning\" in \"machine learning\"), while \"generalization\" \n",
    "refers to how well the trained model would perform on data it has never seen before. The goal of the game is to get good generalization, of \n",
    "course, but you do not control generalization; you can only adjust the model based on its training data.\n",
    "\n",
    "At the beginning of training, optimization and generalization are correlated: the lower your loss on training data, the lower your loss on \n",
    "test data. While this is happening, your model is said to be _under-fit_: there is still progress to be made; the network hasn't yet \n",
    "modeled all relevant patterns in the training data. But after a certain number of iterations on the training data, generalization stops \n",
    "improving, validation metrics stall then start degrading: the model is then starting to over-fit, i.e. is it starting to learn patterns \n",
    "that are specific to the training data but that are misleading or irrelevant when it comes to new data.\n",
    "\n",
    "To prevent a model from learning misleading or irrelevant patterns found in the training data, _the best solution is of course to get \n",
    "more training data_. A model trained on more data will naturally generalize better. When that is no longer possible, the next best solution \n",
    "is to modulate the quantity of information that your model is allowed to store, or to add constraints on what information it is allowed to \n",
    "store. If a network can only afford to memorize a small number of patterns, the optimization process will force it to focus on the most \n",
    "prominent patterns, which have a better chance of generalizing well.\n",
    "\n",
    "The processing of fighting overfitting in this way is called _regularization_. Let's review some of the most common regularization \n",
    "techniques, and let's apply them in practice to improve our movie classification model from  the previous chapter."
   ]
  },
  {
   "cell_type": "markdown",
   "metadata": {},
   "source": [
    "Note: in this notebook we will be using the IMDB test set as our validation set. It doesn't matter in this context.\n",
    "\n",
    "Let's prepare the data using the code from Chapter 3, Section 5:"
   ]
  },
  {
   "cell_type": "code",
   "execution_count": 2,
   "metadata": {},
   "outputs": [
    {
     "name": "stdout",
     "output_type": "stream",
     "text": [
      "Downloading data from https://s3.amazonaws.com/text-datasets/imdb.npz\n",
      "17465344/17464789 [==============================] - 54s 3us/step\n"
     ]
    }
   ],
   "source": [
    "from keras.datasets import imdb\n",
    "import numpy as np\n",
    "\n",
    "(train_data, train_labels), (test_data, test_labels) = imdb.load_data(num_words=10000)\n",
    "\n",
    "def vectorize_sequences(sequences, dimension=10000):\n",
    "    # Create an all-zero matrix of shape (len(sequences), dimension)\n",
    "    results = np.zeros((len(sequences), dimension))\n",
    "    for i, sequence in enumerate(sequences):\n",
    "        results[i, sequence] = 1.  # set specific indices of results[i] to 1s\n",
    "    return results\n",
    "\n",
    "# Our vectorized training data\n",
    "x_train = vectorize_sequences(train_data)\n",
    "# Our vectorized test data\n",
    "x_test = vectorize_sequences(test_data)\n",
    "# Our vectorized labels\n",
    "y_train = np.asarray(train_labels).astype('float32')\n",
    "y_test = np.asarray(test_labels).astype('float32')"
   ]
  },
  {
   "cell_type": "markdown",
   "metadata": {},
   "source": [
    "# Fighting overfitting\n",
    "\n",
    "## Reducing the network's size\n",
    "\n",
    "\n",
    "The simplest way to prevent overfitting is to reduce the size of the model, i.e. the number of learnable parameters in the model (which is \n",
    "determined by the number of layers and the number of units per layer). In deep learning, the number of learnable parameters in a model is \n",
    "often referred to as the model's \"capacity\". Intuitively, a model with more parameters will have more \"memorization capacity\" and therefore \n",
    "will be able to easily learn a perfect dictionary-like mapping between training samples and their targets, a mapping without any \n",
    "generalization power. For instance, a model with 500,000 binary parameters could easily be made to learn the class of every digits in the \n",
    "MNIST training set: we would only need 10 binary parameters for each of the 50,000 digits. Such a model would be useless for classifying \n",
    "new digit samples. Always keep this in mind: deep learning models tend to be good at fitting to the training data, but the real challenge \n",
    "is generalization, not fitting.\n",
    "\n",
    "On the other hand, if the network has limited memorization resources, it will not be able to learn this mapping as easily, and thus, in \n",
    "order to minimize its loss, it will have to resort to learning compressed representations that have predictive power regarding the targets \n",
    "-- precisely the type of representations that we are interested in. At the same time, keep in mind that you should be using models that have \n",
    "enough parameters that they won't be underfitting: your model shouldn't be starved for memorization resources. There is a compromise to be \n",
    "found between \"too much capacity\" and \"not enough capacity\".\n",
    "\n",
    "Unfortunately, there is no magical formula to determine what the right number of layers is, or what the right size for each layer is. You \n",
    "will have to evaluate an array of different architectures (on your validation set, not on your test set, of course) in order to find the \n",
    "right model size for your data. The general workflow to find an appropriate model size is to start with relatively few layers and \n",
    "parameters, and start increasing the size of the layers or adding new layers until you see diminishing returns with regard to the \n",
    "validation loss.\n",
    "\n",
    "Let's try this on our movie review classification network. Our original network was as such:"
   ]
  },
  {
   "cell_type": "code",
   "execution_count": 3,
   "metadata": {},
   "outputs": [],
   "source": [
    "from keras import models\n",
    "from keras import layers\n",
    "\n",
    "original_model = models.Sequential()\n",
    "original_model.add(layers.Dense(16, activation='relu', input_shape=(10000,)))\n",
    "original_model.add(layers.Dense(16, activation='relu'))\n",
    "original_model.add(layers.Dense(1, activation='sigmoid'))\n",
    "\n",
    "original_model.compile(optimizer='rmsprop',\n",
    "                       loss='binary_crossentropy',\n",
    "                       metrics=['acc'])"
   ]
  },
  {
   "cell_type": "markdown",
   "metadata": {},
   "source": [
    "Now let's try to replace it with this smaller network:"
   ]
  },
  {
   "cell_type": "code",
   "execution_count": 4,
   "metadata": {},
   "outputs": [],
   "source": [
    "smaller_model = models.Sequential()\n",
    "smaller_model.add(layers.Dense(4, activation='relu', input_shape=(10000,)))\n",
    "smaller_model.add(layers.Dense(4, activation='relu'))\n",
    "smaller_model.add(layers.Dense(1, activation='sigmoid'))\n",
    "\n",
    "smaller_model.compile(optimizer='rmsprop',\n",
    "                      loss='binary_crossentropy',\n",
    "                      metrics=['acc'])"
   ]
  },
  {
   "cell_type": "markdown",
   "metadata": {},
   "source": [
    "\n",
    "Here's a comparison of the validation losses of the original network and the smaller network. The dots are the validation loss values of \n",
    "the smaller network, and the crosses are the initial network (remember: a lower validation loss signals a better model)."
   ]
  },
  {
   "cell_type": "code",
   "execution_count": 5,
   "metadata": {},
   "outputs": [
    {
     "name": "stdout",
     "output_type": "stream",
     "text": [
      "WARNING:tensorflow:From /usr/local/lib/python3.6/dist-packages/keras/backend/tensorflow_backend.py:422: The name tf.global_variables is deprecated. Please use tf.compat.v1.global_variables instead.\n",
      "\n",
      "Train on 25000 samples, validate on 25000 samples\n",
      "Epoch 1/20\n",
      "25000/25000 [==============================] - 2s 94us/step - loss: 0.4388 - acc: 0.8169 - val_loss: 0.3575 - val_acc: 0.8555\n",
      "Epoch 2/20\n",
      "25000/25000 [==============================] - 1s 56us/step - loss: 0.2532 - acc: 0.9096 - val_loss: 0.2938 - val_acc: 0.8822\n",
      "Epoch 3/20\n",
      "25000/25000 [==============================] - 2s 60us/step - loss: 0.1946 - acc: 0.9308 - val_loss: 0.2896 - val_acc: 0.8842\n",
      "Epoch 4/20\n",
      "25000/25000 [==============================] - 1s 59us/step - loss: 0.1668 - acc: 0.9413 - val_loss: 0.2968 - val_acc: 0.8840\n",
      "Epoch 5/20\n",
      "25000/25000 [==============================] - 1s 58us/step - loss: 0.1443 - acc: 0.9487 - val_loss: 0.3385 - val_acc: 0.8724\n",
      "Epoch 6/20\n",
      "25000/25000 [==============================] - 1s 54us/step - loss: 0.1262 - acc: 0.9566 - val_loss: 0.3406 - val_acc: 0.8753\n",
      "Epoch 7/20\n",
      "25000/25000 [==============================] - 2s 61us/step - loss: 0.1126 - acc: 0.9614 - val_loss: 0.3817 - val_acc: 0.8672\n",
      "Epoch 8/20\n",
      "25000/25000 [==============================] - 2s 62us/step - loss: 0.1010 - acc: 0.9647 - val_loss: 0.3904 - val_acc: 0.8688\n",
      "Epoch 9/20\n",
      "25000/25000 [==============================] - 2s 61us/step - loss: 0.0904 - acc: 0.9694 - val_loss: 0.4326 - val_acc: 0.8650\n",
      "Epoch 10/20\n",
      "25000/25000 [==============================] - 1s 54us/step - loss: 0.0809 - acc: 0.9730 - val_loss: 0.4475 - val_acc: 0.8636\n",
      "Epoch 11/20\n",
      "25000/25000 [==============================] - 1s 55us/step - loss: 0.0730 - acc: 0.9766 - val_loss: 0.4842 - val_acc: 0.8576\n",
      "Epoch 12/20\n",
      "25000/25000 [==============================] - 1s 54us/step - loss: 0.0666 - acc: 0.9778 - val_loss: 0.5070 - val_acc: 0.8591\n",
      "Epoch 13/20\n",
      "25000/25000 [==============================] - 1s 54us/step - loss: 0.0612 - acc: 0.9801 - val_loss: 0.5408 - val_acc: 0.8580\n",
      "Epoch 14/20\n",
      "25000/25000 [==============================] - 1s 52us/step - loss: 0.0510 - acc: 0.9848 - val_loss: 0.6037 - val_acc: 0.8498\n",
      "Epoch 15/20\n",
      "25000/25000 [==============================] - 1s 52us/step - loss: 0.0496 - acc: 0.9837 - val_loss: 0.6158 - val_acc: 0.8526\n",
      "Epoch 16/20\n",
      "25000/25000 [==============================] - 1s 52us/step - loss: 0.0394 - acc: 0.9888 - val_loss: 0.6399 - val_acc: 0.8512\n",
      "Epoch 17/20\n",
      "25000/25000 [==============================] - 1s 53us/step - loss: 0.0366 - acc: 0.9891 - val_loss: 0.7165 - val_acc: 0.8448\n",
      "Epoch 18/20\n",
      "25000/25000 [==============================] - 1s 52us/step - loss: 0.0332 - acc: 0.9901 - val_loss: 0.7246 - val_acc: 0.8475\n",
      "Epoch 19/20\n",
      "25000/25000 [==============================] - 1s 53us/step - loss: 0.0283 - acc: 0.9920 - val_loss: 0.7905 - val_acc: 0.8439\n",
      "Epoch 20/20\n",
      "25000/25000 [==============================] - 1s 53us/step - loss: 0.0250 - acc: 0.9931 - val_loss: 0.7991 - val_acc: 0.8474\n"
     ]
    }
   ],
   "source": [
    "original_hist = original_model.fit(x_train, y_train,\n",
    "                                   epochs=20,\n",
    "                                   batch_size=512,\n",
    "                                   validation_data=(x_test, y_test))"
   ]
  },
  {
   "cell_type": "code",
   "execution_count": 6,
   "metadata": {},
   "outputs": [
    {
     "name": "stdout",
     "output_type": "stream",
     "text": [
      "Train on 25000 samples, validate on 25000 samples\n",
      "Epoch 1/20\n",
      "25000/25000 [==============================] - 2s 66us/step - loss: 0.5551 - acc: 0.7966 - val_loss: 0.4588 - val_acc: 0.8576\n",
      "Epoch 2/20\n",
      "25000/25000 [==============================] - 1s 54us/step - loss: 0.3727 - acc: 0.8905 - val_loss: 0.3531 - val_acc: 0.8765\n",
      "Epoch 3/20\n",
      "25000/25000 [==============================] - 1s 52us/step - loss: 0.2825 - acc: 0.9111 - val_loss: 0.3069 - val_acc: 0.8860\n",
      "Epoch 4/20\n",
      "25000/25000 [==============================] - 1s 52us/step - loss: 0.2337 - acc: 0.9228 - val_loss: 0.2874 - val_acc: 0.8888\n",
      "Epoch 5/20\n",
      "25000/25000 [==============================] - 1s 51us/step - loss: 0.2014 - acc: 0.9324 - val_loss: 0.2797 - val_acc: 0.8896\n",
      "Epoch 6/20\n",
      "25000/25000 [==============================] - 1s 51us/step - loss: 0.1767 - acc: 0.9404 - val_loss: 0.2806 - val_acc: 0.8885\n",
      "Epoch 7/20\n",
      "25000/25000 [==============================] - 1s 52us/step - loss: 0.1576 - acc: 0.9476 - val_loss: 0.2868 - val_acc: 0.8857\n",
      "Epoch 8/20\n",
      "25000/25000 [==============================] - 1s 51us/step - loss: 0.1420 - acc: 0.9539 - val_loss: 0.2926 - val_acc: 0.8845\n",
      "Epoch 9/20\n",
      "25000/25000 [==============================] - 1s 52us/step - loss: 0.1278 - acc: 0.9590 - val_loss: 0.3038 - val_acc: 0.8814\n",
      "Epoch 10/20\n",
      "25000/25000 [==============================] - 1s 52us/step - loss: 0.1162 - acc: 0.9630 - val_loss: 0.3153 - val_acc: 0.8789\n",
      "Epoch 11/20\n",
      "25000/25000 [==============================] - 1s 52us/step - loss: 0.1042 - acc: 0.9686 - val_loss: 0.3369 - val_acc: 0.8738\n",
      "Epoch 12/20\n",
      "25000/25000 [==============================] - 1s 51us/step - loss: 0.0948 - acc: 0.9709 - val_loss: 0.3506 - val_acc: 0.8711\n",
      "Epoch 13/20\n",
      "25000/25000 [==============================] - 1s 52us/step - loss: 0.0861 - acc: 0.9743 - val_loss: 0.3592 - val_acc: 0.8711\n",
      "Epoch 14/20\n",
      "25000/25000 [==============================] - 1s 51us/step - loss: 0.0783 - acc: 0.9772 - val_loss: 0.3810 - val_acc: 0.8677\n",
      "Epoch 15/20\n",
      "25000/25000 [==============================] - 1s 51us/step - loss: 0.0711 - acc: 0.9802 - val_loss: 0.3938 - val_acc: 0.8689\n",
      "Epoch 16/20\n",
      "25000/25000 [==============================] - 1s 52us/step - loss: 0.0642 - acc: 0.9830 - val_loss: 0.4100 - val_acc: 0.8659\n",
      "Epoch 17/20\n",
      "25000/25000 [==============================] - 1s 51us/step - loss: 0.0573 - acc: 0.9854 - val_loss: 0.4314 - val_acc: 0.8652\n",
      "Epoch 18/20\n",
      "25000/25000 [==============================] - 1s 51us/step - loss: 0.0518 - acc: 0.9868 - val_loss: 0.4465 - val_acc: 0.8636\n",
      "Epoch 19/20\n",
      "25000/25000 [==============================] - 1s 52us/step - loss: 0.0460 - acc: 0.9885 - val_loss: 0.4707 - val_acc: 0.8614\n",
      "Epoch 20/20\n",
      "25000/25000 [==============================] - 1s 52us/step - loss: 0.0417 - acc: 0.9901 - val_loss: 0.4904 - val_acc: 0.8606\n"
     ]
    }
   ],
   "source": [
    "smaller_model_hist = smaller_model.fit(x_train, y_train,\n",
    "                                       epochs=20,\n",
    "                                       batch_size=512,\n",
    "                                       validation_data=(x_test, y_test))"
   ]
  },
  {
   "cell_type": "code",
   "execution_count": 7,
   "metadata": {},
   "outputs": [],
   "source": [
    "epochs = range(1, 21)\n",
    "original_val_loss = original_hist.history['val_loss']\n",
    "smaller_model_val_loss = smaller_model_hist.history['val_loss']"
   ]
  },
  {
   "cell_type": "code",
   "execution_count": 8,
   "metadata": {},
   "outputs": [
    {
     "data": {
      "image/png": "[encoded data removed]",
      "text/plain": [
       "<Figure size 432x288 with 1 Axes>"
      ]
     },
     "metadata": {
      "needs_background": "light"
     },
     "output_type": "display_data"
    }
   ],
   "source": [
    "import matplotlib.pyplot as plt\n",
    "\n",
    "# b+ is for \"blue cross\"\n",
    "plt.plot(epochs, original_val_loss, 'b+', label='Original model')\n",
    "# \"bo\" is for \"blue dot\"\n",
    "plt.plot(epochs, smaller_model_val_loss, 'bo', label='Smaller model')\n",
    "plt.xlabel('Epochs')\n",
    "plt.ylabel('Validation loss')\n",
    "plt.legend()\n",
    "\n",
    "plt.show()"
   ]
  },
  {
   "cell_type": "markdown",
   "metadata": {},
   "source": [
    "\n",
    "As you can see, the smaller network starts overfitting later than the reference one (after 6 epochs rather than 4) and its performance \n",
    "degrades much more slowly once it starts overfitting.\n",
    "\n",
    "Now, for kicks, let's add to this benchmark a network that has much more capacity, far more than the problem would warrant:"
   ]
  },
  {
   "cell_type": "code",
   "execution_count": 9,
   "metadata": {},
   "outputs": [],
   "source": [
    "bigger_model = models.Sequential()\n",
    "bigger_model.add(layers.Dense(512, activation='relu', input_shape=(10000,)))\n",
    "bigger_model.add(layers.Dense(512, activation='relu'))\n",
    "bigger_model.add(layers.Dense(1, activation='sigmoid'))\n",
    "\n",
    "bigger_model.compile(optimizer='rmsprop',\n",
    "                     loss='binary_crossentropy',\n",
    "                     metrics=['acc'])"
   ]
  },
  {
   "cell_type": "code",
   "execution_count": 10,
   "metadata": {},
   "outputs": [
    {
     "name": "stdout",
     "output_type": "stream",
     "text": [
      "Train on 25000 samples, validate on 25000 samples\n",
      "Epoch 1/20\n",
      "25000/25000 [==============================] - 2s 72us/step - loss: 0.4704 - acc: 0.7985 - val_loss: 0.2836 - val_acc: 0.8893\n",
      "Epoch 2/20\n",
      "25000/25000 [==============================] - 2s 62us/step - loss: 0.2256 - acc: 0.9135 - val_loss: 0.2742 - val_acc: 0.8877\n",
      "Epoch 3/20\n",
      "25000/25000 [==============================] - 2s 62us/step - loss: 0.1301 - acc: 0.9510 - val_loss: 0.3248 - val_acc: 0.8844\n",
      "Epoch 4/20\n",
      "25000/25000 [==============================] - 1s 54us/step - loss: 0.0680 - acc: 0.9764 - val_loss: 0.3718 - val_acc: 0.8834\n",
      "Epoch 5/20\n",
      "25000/25000 [==============================] - 2s 61us/step - loss: 0.0430 - acc: 0.9902 - val_loss: 0.4465 - val_acc: 0.8823\n",
      "Epoch 6/20\n",
      "25000/25000 [==============================] - 2s 68us/step - loss: 0.0020 - acc: 0.9998 - val_loss: 0.7100 - val_acc: 0.8790\n",
      "Epoch 7/20\n",
      "25000/25000 [==============================] - 2s 63us/step - loss: 0.1102 - acc: 0.9880 - val_loss: 0.6369 - val_acc: 0.8702\n",
      "Epoch 8/20\n",
      "25000/25000 [==============================] - 1s 60us/step - loss: 0.0010 - acc: 0.9999 - val_loss: 0.7411 - val_acc: 0.8794\n",
      "Epoch 9/20\n",
      "25000/25000 [==============================] - 2s 67us/step - loss: 9.7016e-05 - acc: 1.0000 - val_loss: 0.9065 - val_acc: 0.8802\n",
      "Epoch 10/20\n",
      "25000/25000 [==============================] - 2s 66us/step - loss: 1.3519e-05 - acc: 1.0000 - val_loss: 1.1033 - val_acc: 0.8791\n",
      "Epoch 11/20\n",
      "25000/25000 [==============================] - 2s 64us/step - loss: 1.5974e-06 - acc: 1.0000 - val_loss: 1.2374 - val_acc: 0.8797\n",
      "Epoch 12/20\n",
      "25000/25000 [==============================] - 2s 65us/step - loss: 2.3751e-07 - acc: 1.0000 - val_loss: 1.3810 - val_acc: 0.8799\n",
      "Epoch 13/20\n",
      "25000/25000 [==============================] - 2s 70us/step - loss: 5.1025e-08 - acc: 1.0000 - val_loss: 1.4841 - val_acc: 0.8796\n",
      "Epoch 14/20\n",
      "25000/25000 [==============================] - 2s 62us/step - loss: 2.1663e-08 - acc: 1.0000 - val_loss: 1.5378 - val_acc: 0.8788\n",
      "Epoch 15/20\n",
      "25000/25000 [==============================] - 1s 50us/step - loss: 1.3530e-08 - acc: 1.0000 - val_loss: 1.5684 - val_acc: 0.8789\n",
      "Epoch 16/20\n",
      "25000/25000 [==============================] - 1s 50us/step - loss: 9.8269e-09 - acc: 1.0000 - val_loss: 1.5925 - val_acc: 0.8789\n",
      "Epoch 17/20\n",
      "25000/25000 [==============================] - 1s 50us/step - loss: 7.7576e-09 - acc: 1.0000 - val_loss: 1.6093 - val_acc: 0.8790\n",
      "Epoch 18/20\n",
      "25000/25000 [==============================] - 1s 50us/step - loss: 6.4060e-09 - acc: 1.0000 - val_loss: 1.6237 - val_acc: 0.8790\n",
      "Epoch 19/20\n",
      "25000/25000 [==============================] - 1s 49us/step - loss: 5.4708e-09 - acc: 1.0000 - val_loss: 1.6365 - val_acc: 0.8789\n",
      "Epoch 20/20\n",
      "25000/25000 [==============================] - 1s 50us/step - loss: 4.7824e-09 - acc: 1.0000 - val_loss: 1.6469 - val_acc: 0.8790\n"
     ]
    }
   ],
   "source": [
    "bigger_model_hist = bigger_model.fit(x_train, y_train,\n",
    "                                     epochs=20,\n",
    "                                     batch_size=512,\n",
    "                                     validation_data=(x_test, y_test))"
   ]
  },
  {
   "cell_type": "markdown",
   "metadata": {},
   "source": [
    "Here's how the bigger network fares compared to the reference one. The dots are the validation loss values of the bigger network, and the \n",
    "crosses are the initial network."
   ]
  },
  {
   "cell_type": "code",
   "execution_count": 11,
   "metadata": {},
   "outputs": [
    {
     "data": {
      "image/png": "[encoded data removed]",
      "text/plain": [
       "<Figure size 432x288 with 1 Axes>"
      ]
     },
     "metadata": {
      "needs_background": "light"
     },
     "output_type": "display_data"
    }
   ],
   "source": [
    "bigger_model_val_loss = bigger_model_hist.history['val_loss']\n",
    "\n",
    "plt.plot(epochs, original_val_loss, 'b+', label='Original model')\n",
    "plt.plot(epochs, bigger_model_val_loss, 'bo', label='Bigger model')\n",
    "plt.xlabel('Epochs')\n",
    "plt.ylabel('Validation loss')\n",
    "plt.legend()\n",
    "\n",
    "plt.show()"
   ]
  },
  {
   "cell_type": "markdown",
   "metadata": {},
   "source": [
    "\n",
    "The bigger network starts overfitting almost right away, after just one epoch, and overfits much more severely. Its validation loss is also \n",
    "more noisy.\n",
    "\n",
    "Meanwhile, here are the training losses for our two networks:"
   ]
  },
  {
   "cell_type": "code",
   "execution_count": 12,
   "metadata": {},
   "outputs": [
    {
     "data": {
      "image/png": "[encoded data removed]",
      "text/plain": [
       "<Figure size 432x288 with 1 Axes>"
      ]
     },
     "metadata": {
      "needs_background": "light"
     },
     "output_type": "display_data"
    }
   ],
   "source": [
    "original_train_loss = original_hist.history['loss']\n",
    "bigger_model_train_loss = bigger_model_hist.history['loss']\n",
    "\n",
    "plt.plot(epochs, original_train_loss, 'b+', label='Original model')\n",
    "plt.plot(epochs, bigger_model_train_loss, 'bo', label='Bigger model')\n",
    "plt.xlabel('Epochs')\n",
    "plt.ylabel('Training loss')\n",
    "plt.legend()\n",
    "\n",
    "plt.show()"
   ]
  },
  {
   "cell_type": "markdown",
   "metadata": {},
   "source": [
    "As you can see, the bigger network gets its training loss near zero very quickly. The more capacity the network has, the quicker it will be \n",
    "able to model the training data (resulting in a low training loss), but the more susceptible it is to overfitting (resulting in a large \n",
    "difference between the training and validation loss)."
   ]
  },
  {
   "cell_type": "markdown",
   "metadata": {},
   "source": [
    "## Adding weight regularization\n",
    "\n",
    "\n",
    "You may be familiar with _Occam's Razor_ principle: given two explanations for something, the explanation most likely to be correct is the \n",
    "\"simplest\" one, the one that makes the least amount of assumptions. This also applies to the models learned by neural networks: given some \n",
    "training data and a network architecture, there are multiple sets of weights values (multiple _models_) that could explain the data, and \n",
    "simpler models are less likely to overfit than complex ones.\n",
    "\n",
    "A \"simple model\" in this context is a model where the distribution of parameter values has less entropy (or a model with fewer \n",
    "parameters altogether, as we saw in the section above). Thus a common way to mitigate overfitting is to put constraints on the complexity \n",
    "of a network by forcing its weights to only take small values, which makes the distribution of weight values more \"regular\". This is called \n",
    "\"weight regularization\", and it is done by adding to the loss function of the network a _cost_ associated with having large weights. This \n",
    "cost comes in two flavors:\n",
    "\n",
    "* L1 regularization, where the cost added is proportional to the _absolute value of the weights coefficients_ (i.e. to what is called the \n",
    "\"L1 norm\" of the weights).\n",
    "* L2 regularization, where the cost added is proportional to the _square of the value of the weights coefficients_ (i.e. to what is called \n",
    "the \"L2 norm\" of the weights). L2 regularization is also called _weight decay_ in the context of neural networks. Don't let the different \n",
    "name confuse you: weight decay is mathematically the exact same as L2 regularization.\n",
    "\n",
    "In Keras, weight regularization is added by passing _weight regularizer instances_ to layers as keyword arguments. Let's add L2 weight \n",
    "regularization to our movie review classification network:"
   ]
  },
  {
   "cell_type": "code",
   "execution_count": 13,
   "metadata": {},
   "outputs": [],
   "source": [
    "from keras import regularizers\n",
    "\n",
    "l2_model = models.Sequential()\n",
    "l2_model.add(layers.Dense(16, kernel_regularizer=regularizers.l2(0.001),\n",
    "                          activation='relu', input_shape=(10000,)))\n",
    "l2_model.add(layers.Dense(16, kernel_regularizer=regularizers.l2(0.001),\n",
    "                          activation='relu'))\n",
    "l2_model.add(layers.Dense(1, activation='sigmoid'))"
   ]
  },
  {
   "cell_type": "code",
   "execution_count": 14,
   "metadata": {},
   "outputs": [],
   "source": [
    "l2_model.compile(optimizer='rmsprop',\n",
    "                 loss='binary_crossentropy',\n",
    "                 metrics=['acc'])"
   ]
  },
  {
   "cell_type": "markdown",
   "metadata": {},
   "source": [
    "`l2(0.001)` means that every coefficient in the weight matrix of the layer will add `0.001 * weight_coefficient_value` to the total loss of \n",
    "the network. Note that because this penalty is _only added at training time_, the loss for this network will be much higher at training \n",
    "than at test time.\n",
    "\n",
    "Here's the impact of our L2 regularization penalty:"
   ]
  },
  {
   "cell_type": "code",
   "execution_count": 15,
   "metadata": {},
   "outputs": [
    {
     "name": "stdout",
     "output_type": "stream",
     "text": [
      "Train on 25000 samples, validate on 25000 samples\n",
      "Epoch 1/20\n",
      "25000/25000 [==============================] - 2s 62us/step - loss: 0.4976 - acc: 0.8233 - val_loss: 0.3848 - val_acc: 0.8824\n",
      "Epoch 2/20\n",
      "25000/25000 [==============================] - 1s 57us/step - loss: 0.3209 - acc: 0.9046 - val_loss: 0.3617 - val_acc: 0.8736\n",
      "Epoch 3/20\n",
      "25000/25000 [==============================] - 1s 57us/step - loss: 0.2765 - acc: 0.9194 - val_loss: 0.3312 - val_acc: 0.8889\n",
      "Epoch 4/20\n",
      "25000/25000 [==============================] - 1s 48us/step - loss: 0.2543 - acc: 0.9276 - val_loss: 0.3358 - val_acc: 0.8848\n",
      "Epoch 5/20\n",
      "25000/25000 [==============================] - 1s 50us/step - loss: 0.2429 - acc: 0.9314 - val_loss: 0.3418 - val_acc: 0.8849\n",
      "Epoch 6/20\n",
      "25000/25000 [==============================] - 1s 48us/step - loss: 0.2338 - acc: 0.9355 - val_loss: 0.3789 - val_acc: 0.8710\n",
      "Epoch 7/20\n",
      "25000/25000 [==============================] - 1s 50us/step - loss: 0.2283 - acc: 0.9367 - val_loss: 0.3546 - val_acc: 0.8804\n",
      "Epoch 8/20\n",
      "25000/25000 [==============================] - 1s 56us/step - loss: 0.2232 - acc: 0.9390 - val_loss: 0.3709 - val_acc: 0.8751\n",
      "Epoch 9/20\n",
      "25000/25000 [==============================] - 1s 56us/step - loss: 0.2169 - acc: 0.9423 - val_loss: 0.3719 - val_acc: 0.8746\n",
      "Epoch 10/20\n",
      "25000/25000 [==============================] - 1s 56us/step - loss: 0.2140 - acc: 0.9438 - val_loss: 0.3805 - val_acc: 0.8737\n",
      "Epoch 11/20\n",
      "25000/25000 [==============================] - 1s 57us/step - loss: 0.2106 - acc: 0.9438 - val_loss: 0.3893 - val_acc: 0.8720\n",
      "Epoch 12/20\n",
      "25000/25000 [==============================] - 1s 55us/step - loss: 0.2136 - acc: 0.9426 - val_loss: 0.4033 - val_acc: 0.8704\n",
      "Epoch 13/20\n",
      "25000/25000 [==============================] - 1s 57us/step - loss: 0.2041 - acc: 0.9468 - val_loss: 0.4389 - val_acc: 0.8572\n",
      "Epoch 14/20\n",
      "25000/25000 [==============================] - 1s 57us/step - loss: 0.2079 - acc: 0.9444 - val_loss: 0.3916 - val_acc: 0.8725\n",
      "Epoch 15/20\n",
      "25000/25000 [==============================] - 1s 53us/step - loss: 0.2023 - acc: 0.9480 - val_loss: 0.4022 - val_acc: 0.8708\n",
      "Epoch 16/20\n",
      "25000/25000 [==============================] - 1s 52us/step - loss: 0.2021 - acc: 0.9470 - val_loss: 0.4045 - val_acc: 0.8712\n",
      "Epoch 17/20\n",
      "25000/25000 [==============================] - 1s 53us/step - loss: 0.2033 - acc: 0.9438 - val_loss: 0.4052 - val_acc: 0.8702\n",
      "Epoch 18/20\n",
      "25000/25000 [==============================] - 1s 52us/step - loss: 0.1963 - acc: 0.9496 - val_loss: 0.4423 - val_acc: 0.8599\n",
      "Epoch 19/20\n",
      "25000/25000 [==============================] - 1s 53us/step - loss: 0.1980 - acc: 0.9466 - val_loss: 0.4254 - val_acc: 0.8668\n",
      "Epoch 20/20\n",
      "25000/25000 [==============================] - 1s 53us/step - loss: 0.1904 - acc: 0.9526 - val_loss: 0.4141 - val_acc: 0.8707\n"
     ]
    }
   ],
   "source": [
    "l2_model_hist = l2_model.fit(x_train, y_train,\n",
    "                             epochs=20,\n",
    "                             batch_size=512,\n",
    "                             validation_data=(x_test, y_test))"
   ]
  },
  {
   "cell_type": "code",
   "execution_count": 16,
   "metadata": {},
   "outputs": [
    {
     "data": {
      "image/png": "[encoded data removed]",
      "text/plain": [
       "<Figure size 432x288 with 1 Axes>"
      ]
     },
     "metadata": {
      "needs_background": "light"
     },
     "output_type": "display_data"
    }
   ],
   "source": [
    "l2_model_val_loss = l2_model_hist.history['val_loss']\n",
    "\n",
    "plt.plot(epochs, original_val_loss, 'b+', label='Original model')\n",
    "plt.plot(epochs, l2_model_val_loss, 'bo', label='L2-regularized model')\n",
    "plt.xlabel('Epochs')\n",
    "plt.ylabel('Validation loss')\n",
    "plt.legend()\n",
    "\n",
    "plt.show()"
   ]
  },
  {
   "cell_type": "markdown",
   "metadata": {},
   "source": [
    "\n",
    "\n",
    "As you can see, the model with L2 regularization (dots) has become much more resistant to overfitting than the reference model (crosses), \n",
    "even though both models have the same number of parameters.\n",
    "\n",
    "As alternatives to L2 regularization, you could use one of the following Keras weight regularizers:"
   ]
  },
  {
   "cell_type": "code",
   "execution_count": null,
   "metadata": {
    "collapsed": true,
    "jupyter": {
     "outputs_hidden": true
    }
   },
   "outputs": [],
   "source": [
    "from keras import regularizers\n",
    "\n",
    "# L1 regularization\n",
    "regularizers.l1(0.001)\n",
    "\n",
    "# L1 and L2 regularization at the same time\n",
    "regularizers.l1_l2(l1=0.001, l2=0.001)"
   ]
  },
  {
   "cell_type": "markdown",
   "metadata": {},
   "source": [
    "## Adding dropout\n",
    "\n",
    "\n",
    "Dropout is one of the most effective and most commonly used regularization techniques for neural networks, developed by Hinton and his \n",
    "students at the University of Toronto. Dropout, applied to a layer, consists of randomly \"dropping out\" (i.e. setting to zero) a number of \n",
    "output features of the layer during training. Let's say a given layer would normally have returned a vector `[0.2, 0.5, 1.3, 0.8, 1.1]` for a \n",
    "given input sample during training; after applying dropout, this vector will have a few zero entries distributed at random, e.g. `[0, 0.5, \n",
    "1.3, 0, 1.1]`. The \"dropout rate\" is the fraction of the features that are being zeroed-out; it is usually set between 0.2 and 0.5. At test \n",
    "time, no units are dropped out, and instead the layer's output values are scaled down by a factor equal to the dropout rate, so as to \n",
    "balance for the fact that more units are active than at training time.\n",
    "\n",
    "Consider a Numpy matrix containing the output of a layer, `layer_output`, of shape `(batch_size, features)`. At training time, we would be \n",
    "zero-ing out at random a fraction of the values in the matrix:"
   ]
  },
  {
   "cell_type": "code",
   "execution_count": null,
   "metadata": {
    "collapsed": true,
    "jupyter": {
     "outputs_hidden": true
    }
   },
   "outputs": [],
   "source": [
    "# At training time: we drop out 50% of the units in the output\n",
    "layer_output *= np.randint(0, high=2, size=layer_output.shape)"
   ]
  },
  {
   "cell_type": "markdown",
   "metadata": {},
   "source": [
    "\n",
    "At test time, we would be scaling the output down by the dropout rate. Here we scale by 0.5 (because we were previous dropping half the \n",
    "units):"
   ]
  },
  {
   "cell_type": "code",
   "execution_count": null,
   "metadata": {
    "collapsed": true,
    "jupyter": {
     "outputs_hidden": true
    }
   },
   "outputs": [],
   "source": [
    "# At test time:\n",
    "layer_output *= 0.5"
   ]
  },
  {
   "cell_type": "markdown",
   "metadata": {},
   "source": [
    "\n",
    "Note that this process can be implemented by doing both operations at training time and leaving the output unchanged at test time, which is \n",
    "often the way it is implemented in practice:"
   ]
  },
  {
   "cell_type": "code",
   "execution_count": null,
   "metadata": {
    "collapsed": true,
    "jupyter": {
     "outputs_hidden": true
    }
   },
   "outputs": [],
   "source": [
    "# At training time:\n",
    "layer_output *= np.randint(0, high=2, size=layer_output.shape)\n",
    "# Note that we are scaling *up* rather scaling *down* in this case\n",
    "layer_output /= 0.5"
   ]
  },
  {
   "cell_type": "markdown",
   "metadata": {},
   "source": [
    "\n",
    "This technique may seem strange and arbitrary. Why would this help reduce overfitting? Geoff Hinton has said that he was inspired, among \n",
    "other things, by a fraud prevention mechanism used by banks -- in his own words: _\"I went to my bank. The tellers kept changing and I asked \n",
    "one of them why. He said he didn’t know but they got moved around a lot. I figured it must be because it would require cooperation \n",
    "between employees to successfully defraud the bank. This made me realize that randomly removing a different subset of neurons on each \n",
    "example would prevent conspiracies and thus reduce overfitting\"_.\n",
    "\n",
    "The core idea is that introducing noise in the output values of a layer can break up happenstance patterns that are not significant (what \n",
    "Hinton refers to as \"conspiracies\"), which the network would start memorizing if no noise was present. \n",
    "\n",
    "In Keras you can introduce dropout in a network via the `Dropout` layer, which gets applied to the output of layer right before it, e.g.:"
   ]
  },
  {
   "cell_type": "code",
   "execution_count": null,
   "metadata": {
    "collapsed": true,
    "jupyter": {
     "outputs_hidden": true
    }
   },
   "outputs": [],
   "source": [
    "model.add(layers.Dropout(0.5))"
   ]
  },
  {
   "cell_type": "markdown",
   "metadata": {},
   "source": [
    "Let's add two `Dropout` layers in our IMDB network to see how well they do at reducing overfitting:"
   ]
  },
  {
   "cell_type": "code",
   "execution_count": 17,
   "metadata": {},
   "outputs": [],
   "source": [
    "dpt_model = models.Sequential()\n",
    "dpt_model.add(layers.Dense(16, activation='relu', input_shape=(10000,)))\n",
    "dpt_model.add(layers.Dropout(0.5))\n",
    "dpt_model.add(layers.Dense(16, activation='relu'))\n",
    "dpt_model.add(layers.Dropout(0.5))\n",
    "dpt_model.add(layers.Dense(1, activation='sigmoid'))\n",
    "\n",
    "dpt_model.compile(optimizer='rmsprop',\n",
    "                  loss='binary_crossentropy',\n",
    "                  metrics=['acc'])"
   ]
  },
  {
   "cell_type": "code",
   "execution_count": 18,
   "metadata": {},
   "outputs": [
    {
     "name": "stdout",
     "output_type": "stream",
     "text": [
      "Train on 25000 samples, validate on 25000 samples\n",
      "Epoch 1/20\n",
      "25000/25000 [==============================] - 2s 61us/step - loss: 0.6131 - acc: 0.6601 - val_loss: 0.4964 - val_acc: 0.8416\n",
      "Epoch 2/20\n",
      "25000/25000 [==============================] - 1s 58us/step - loss: 0.4728 - acc: 0.7944 - val_loss: 0.3669 - val_acc: 0.8772\n",
      "Epoch 3/20\n",
      "25000/25000 [==============================] - 1s 53us/step - loss: 0.3815 - acc: 0.8459 - val_loss: 0.3130 - val_acc: 0.8820\n",
      "Epoch 4/20\n",
      "25000/25000 [==============================] - 1s 52us/step - loss: 0.3251 - acc: 0.8778 - val_loss: 0.2810 - val_acc: 0.8877\n",
      "Epoch 5/20\n",
      "25000/25000 [==============================] - 1s 49us/step - loss: 0.2825 - acc: 0.8975 - val_loss: 0.2775 - val_acc: 0.8885\n",
      "Epoch 6/20\n",
      "25000/25000 [==============================] - 1s 53us/step - loss: 0.2523 - acc: 0.9125 - val_loss: 0.2827 - val_acc: 0.8892\n",
      "Epoch 7/20\n",
      "25000/25000 [==============================] - 1s 48us/step - loss: 0.2283 - acc: 0.9210 - val_loss: 0.2967 - val_acc: 0.8878\n",
      "Epoch 8/20\n",
      "25000/25000 [==============================] - 1s 48us/step - loss: 0.2052 - acc: 0.9296 - val_loss: 0.3119 - val_acc: 0.8864\n",
      "Epoch 9/20\n",
      "25000/25000 [==============================] - 1s 49us/step - loss: 0.1900 - acc: 0.9334 - val_loss: 0.3329 - val_acc: 0.8874\n",
      "Epoch 10/20\n",
      "25000/25000 [==============================] - 1s 48us/step - loss: 0.1765 - acc: 0.9397 - val_loss: 0.3522 - val_acc: 0.8836\n",
      "Epoch 11/20\n",
      "25000/25000 [==============================] - 1s 48us/step - loss: 0.1670 - acc: 0.9421 - val_loss: 0.3648 - val_acc: 0.8836\n",
      "Epoch 12/20\n",
      "25000/25000 [==============================] - 1s 48us/step - loss: 0.1558 - acc: 0.9462 - val_loss: 0.3840 - val_acc: 0.8825\n",
      "Epoch 13/20\n",
      "25000/25000 [==============================] - 1s 48us/step - loss: 0.1521 - acc: 0.9473 - val_loss: 0.4110 - val_acc: 0.8814\n",
      "Epoch 14/20\n",
      "25000/25000 [==============================] - 1s 48us/step - loss: 0.1418 - acc: 0.9516 - val_loss: 0.4383 - val_acc: 0.8812\n",
      "Epoch 15/20\n",
      "25000/25000 [==============================] - 1s 48us/step - loss: 0.1332 - acc: 0.9508 - val_loss: 0.4550 - val_acc: 0.8791\n",
      "Epoch 16/20\n",
      "25000/25000 [==============================] - 1s 48us/step - loss: 0.1338 - acc: 0.9515 - val_loss: 0.4810 - val_acc: 0.8768\n",
      "Epoch 17/20\n",
      "25000/25000 [==============================] - 1s 48us/step - loss: 0.1259 - acc: 0.9533 - val_loss: 0.4748 - val_acc: 0.8787\n",
      "Epoch 18/20\n",
      "25000/25000 [==============================] - 1s 48us/step - loss: 0.1272 - acc: 0.9528 - val_loss: 0.5105 - val_acc: 0.8786\n",
      "Epoch 19/20\n",
      "25000/25000 [==============================] - 1s 48us/step - loss: 0.1198 - acc: 0.9543 - val_loss: 0.5149 - val_acc: 0.8776\n",
      "Epoch 20/20\n",
      "25000/25000 [==============================] - 1s 49us/step - loss: 0.1160 - acc: 0.9548 - val_loss: 0.5441 - val_acc: 0.8764\n"
     ]
    }
   ],
   "source": [
    "dpt_model_hist = dpt_model.fit(x_train, y_train,\n",
    "                               epochs=20,\n",
    "                               batch_size=512,\n",
    "                               validation_data=(x_test, y_test))"
   ]
  },
  {
   "cell_type": "markdown",
   "metadata": {},
   "source": [
    "Let's plot the results:"
   ]
  },
  {
   "cell_type": "code",
   "execution_count": 19,
   "metadata": {},
   "outputs": [
    {
     "data": {
      "image/png": "[encoded data removed]",
      "text/plain": [
       "<Figure size 432x288 with 1 Axes>"
      ]
     },
     "metadata": {
      "needs_background": "light"
     },
     "output_type": "display_data"
    }
   ],
   "source": [
    "dpt_model_val_loss = dpt_model_hist.history['val_loss']\n",
    "\n",
    "plt.plot(epochs, original_val_loss, 'b+', label='Original model')\n",
    "plt.plot(epochs, dpt_model_val_loss, 'bo', label='Dropout-regularized model')\n",
    "plt.xlabel('Epochs')\n",
    "plt.ylabel('Validation loss')\n",
    "plt.legend()\n",
    "\n",
    "plt.show()"
   ]
  },
  {
   "cell_type": "markdown",
   "metadata": {},
   "source": [
    "\n",
    "Again, a clear improvement over the reference network.\n",
    "\n",
    "To recap: here the most common ways to prevent overfitting in neural networks:\n",
    "\n",
    "* Getting more training data.\n",
    "* Reducing the capacity of the network.\n",
    "* Adding weight regularization.\n",
    "* Adding dropout."
   ]
  }
 ],
 "metadata": {
  "kernelspec": {
   "display_name": "Python 3",
   "language": "python",
   "name": "python3"
  },
  "language_info": {
   "codemirror_mode": {
    "name": "ipython",
    "version": 3
   },
   "file_extension": ".py",
   "mimetype": "text/x-python",
   "name": "python",
   "nbconvert_exporter": "python",
   "pygments_lexer": "ipython3",
   "version": "3.6.9"
  }
 },
 "nbformat": 4,
 "nbformat_minor": 4
}
